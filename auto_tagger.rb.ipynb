{
 "cells": [
  {
   "cell_type": "markdown",
   "metadata": {
    "collapsed": true
   },
   "source": [
    "## Take untagged / to_file pocket articles, parse w/ readability, tag w/ calais"
   ]
  },
  {
   "cell_type": "markdown",
   "metadata": {},
   "source": [
    "### Dependencies\n",
    "- [pocket-ruby](https://github.com/turadg/pocket-ruby)\n",
    "- [open_calais](https://github.com/PRX/open_calais)\n",
    "- [sanitize](https://github.com/rgrove/sanitize)\n",
    "\n",
    "And also a pocket consumer key, as well as tokens from the oauth server (run `server.rb` to acquire these)"
   ]
  },
  {
   "cell_type": "code",
   "execution_count": 1,
   "metadata": {
    "collapsed": false
   },
   "outputs": [
    {
     "data": {
      "text/plain": [
       "true"
      ]
     },
     "execution_count": 1,
     "metadata": {},
     "output_type": "execute_result"
    }
   ],
   "source": [
    "require 'pocket-ruby'\n",
    "require 'open_calais'\n",
    "\n",
    "require 'sanitize'\n",
    "\n",
    "require 'hashie'\n",
    "\n",
    "require './lib/url_tagger'\n",
    "require './lib/key_manager'"
   ]
  },
  {
   "cell_type": "markdown",
   "metadata": {},
   "source": [
    "## Load keys from 'current_tokens.json'\n",
    "### If this is empty, run `ruby server.rb` and oauth with some services to populate it\n",
    "### You also need an open calais key for tagging, and a pocket consumer key for pocket fetching (sorry)"
   ]
  },
  {
   "cell_type": "code",
   "execution_count": 2,
   "metadata": {
    "collapsed": false
   },
   "outputs": [
    {
     "data": {
      "text/plain": [
       "[\"feedly\", \"pocket\", \"pocket_consumer\", \"calais\", \"readability\"]"
      ]
     },
     "execution_count": 2,
     "metadata": {},
     "output_type": "execute_result"
    }
   ],
   "source": [
    "keys = JSON.parse open('current_tokens.json').read\n",
    "if keys.size == 0\n",
    "  puts \"run ruby server.rb -p8080 to get some oauth keys\"\n",
    "else\n",
    "  keys.keys\n",
    "end"
   ]
  },
  {
   "cell_type": "code",
   "execution_count": 3,
   "metadata": {
    "collapsed": false
   },
   "outputs": [
    {
     "data": {
      "text/plain": [
       "list of keys in your key file"
      ]
     },
     "execution_count": 3,
     "metadata": {},
     "output_type": "execute_result"
    }
   ],
   "source": [
    "keys"
   ]
  },
  {
   "cell_type": "markdown",
   "metadata": {},
   "source": [
    "## Create a `UrlTagger` with access to Open Calais and Readability"
   ]
  },
  {
   "cell_type": "code",
   "execution_count": 4,
   "metadata": {
    "collapsed": false
   },
   "outputs": [
    {
     "data": {
      "text/plain": [
       "#<UrlTagger:0x00000003942840 @calais_client=#<OpenCalais::Client:0x000000039427a0 @current_options={:api_key=>\"(redacted)\", :adapter=>:excon, :endpoint=>\"https://api.thomsonreuters.com/permid/calais\", :user_agent=>\"OpenCalais Ruby Gem 0.3.2\"}, @api_key=\"(redacted)\", @adapter=:excon, @endpoint=\"https://api.thomsonreuters.com/permid/calais\", @user_agent=\"OpenCalais Ruby Gem 0.3.2\">, @readability_key=\"(redacted)\">"
      ]
     },
     "execution_count": 4,
     "metadata": {},
     "output_type": "execute_result"
    }
   ],
   "source": [
    "tagger = UrlTagger.new(calais_key: keys[\"calais\"], readability_key: keys[\"readability\"])"
   ]
  },
  {
   "cell_type": "markdown",
   "metadata": {},
   "source": [
    "### The `tags_for` method assigns tags via open calais"
   ]
  },
  {
   "cell_type": "code",
   "execution_count": 5,
   "metadata": {
    "collapsed": false
   },
   "outputs": [
    {
     "data": {
      "text/plain": [
       "[{:name=>\"Environment\", :score=>0.638, :original=>\"Environment\"}, {:name=>\"eve online\", :score=>0.9}, {:name=>\"dust 514\", :score=>0.9}, {:name=>\"ccp games\", :score=>0.9}, {:name=>\"dust\", :score=>0.7}, {:name=>\"eve\", :score=>0.7}]"
      ]
     },
     "execution_count": 5,
     "metadata": {},
     "output_type": "execute_result"
    }
   ],
   "source": [
    "url = \"https://www.rockpapershotgun.com/2016/02/10/eves-project-legion-scrapped-new-fps-coming/\"\n",
    "tagger.tags_for(url)"
   ]
  },
  {
   "cell_type": "markdown",
   "metadata": {},
   "source": [
    "## Automated tagging demo with Pocket\n",
    "### requires `pocket_consumer` key and oauthing with Pocket"
   ]
  },
  {
   "cell_type": "code",
   "execution_count": 6,
   "metadata": {
    "collapsed": false
   },
   "outputs": [
    {
     "data": {
      "text/plain": [
       "#<Pocket::Client:0x0000000384a8c0 @adapter=:net_http, @consumer_key=\"(redacted)\", @access_token=\"(redacted)\", @endpoint=\"https://getpocket.com/v3/\", @redirect_uri=nil, @format=:json, @user_agent=\"Pocket Ruby Gem 0.0.6\", @proxy=nil>"
      ]
     },
     "execution_count": 6,
     "metadata": {},
     "output_type": "execute_result"
    }
   ],
   "source": [
    "pocket_client = Pocket.client(consumer_key: keys[\"pocket_consumer\"], access_token: keys[\"pocket\"])"
   ]
  },
  {
   "cell_type": "markdown",
   "metadata": {},
   "source": [
    "### Define a bunch of lambdas instead of a class because I'm still prototyping this"
   ]
  },
  {
   "cell_type": "code",
   "execution_count": 7,
   "metadata": {
    "collapsed": false
   },
   "outputs": [
    {
     "data": {
      "text/plain": [
       "#<Proc:0x00000001ea0820@(pry):55 (lambda)>"
      ]
     },
     "execution_count": 7,
     "metadata": {},
     "output_type": "execute_result"
    }
   ],
   "source": [
    "false_positive_tags = [\"http cookie\"]\n",
    "\n",
    "# Choose the better of two tag sets; pretty cure algorithm for now\n",
    "better_tags = ->(item, seta, setb) do\n",
    "  return seta if setb.count == 0\n",
    "  return setb if seta.count == 0\n",
    "  \n",
    "  a_conf = seta.sum{|u| u[:score]} / seta.count\n",
    "  b_conf = setb.sum{|e| e[:score]} / setb.count\n",
    "  \n",
    "  if a_conf > b_conf\n",
    "    if seta.any?{|sa| false_positive_tags.include?(sa)}\n",
    "      setb\n",
    "    else\n",
    "      seta\n",
    "    end\n",
    "  else\n",
    "    setb\n",
    "  end\n",
    "end\n",
    "\n",
    "# get the 'better' of either tags based on the article excerpt, or the full (html scrubbed) text\n",
    "auto_tag = ->(item, tagger) do\n",
    "  url = item[\"resolved_url\"] || item[\"given_url\"]\n",
    "  \n",
    "  url_tags = tagger.tags_for(url)\n",
    "  excerpt_tags = tagger.get_tags(item[\"excerpt\"])\n",
    "  \n",
    "  tags = better_tags[item, url_tags, excerpt_tags]\n",
    "  \n",
    "  tags\n",
    "end\n",
    "\n",
    "# set tags in pocket\n",
    "set_tags = ->(item_id, tags) do\n",
    "  payload = [\n",
    "    {action: \"tags_add\", tags: tags, item_id: item_id}\n",
    "     ]\n",
    "  puts payload\n",
    "  pocket_client.modify(payload)\n",
    "end"
   ]
  },
  {
   "cell_type": "markdown",
   "metadata": {},
   "source": [
    "## Fetch some entries from pocket"
   ]
  },
  {
   "cell_type": "code",
   "execution_count": 8,
   "metadata": {
    "collapsed": false,
    "scrolled": true
   },
   "outputs": [
    {
     "data": {
      "text/plain": [
       "6"
      ]
     },
     "execution_count": 8,
     "metadata": {},
     "output_type": "execute_result"
    }
   ],
   "source": [
    "pocket_entries = pocket_client.retrieve(count: 6, offset: 0)\n",
    "entries = pocket_entries[\"list\"]\n",
    "\n",
    "entries.count"
   ]
  },
  {
   "cell_type": "markdown",
   "metadata": {},
   "source": [
    "### What have we got here?"
   ]
  },
  {
   "cell_type": "code",
   "execution_count": 9,
   "metadata": {
    "collapsed": false
   },
   "outputs": [
    {
     "name": "stdout",
     "output_type": "stream",
     "text": [
      "North Korea Uncovered: The Crowd-Sourced Mapping of the World’s Most Secret State\n",
      "How prominent black voices are divided on Clinton v Sanders\n",
      "Quick Easy Fish Stew\n",
      "Gravitational Waves Found: Kip Thorne Explains\n",
      "Why the Authors Guild Is Still Wrong About Google’s Book Scanning\n",
      "StevenBlack/hosts\n"
     ]
    }
   ],
   "source": [
    "titles = entries.map{|id, val| val[\"resolved_title\"]}\n",
    "puts titles.join(\"\\n\")"
   ]
  },
  {
   "cell_type": "markdown",
   "metadata": {},
   "source": [
    "### Let's take a look at one"
   ]
  },
  {
   "cell_type": "code",
   "execution_count": 10,
   "metadata": {
    "collapsed": false
   },
   "outputs": [
    {
     "name": "stdout",
     "output_type": "stream",
     "text": [
      "{\n",
      "  \"item_id\": \"1191716972\",\n",
      "  \"resolved_id\": \"1191716972\",\n",
      "  \"given_url\": \"http://blogs.loc.gov/maps/2016/02/north-korea-uncovered-the-crowd-sourced-mapping-of-the-worlds-most-secret-state/\",\n",
      "  \"given_title\": \"Crowdsourced Mapping of North Korea\",\n",
      "  \"favorite\": \"0\",\n",
      "  \"status\": \"0\",\n",
      "  \"time_added\": \"1455251176\",\n",
      "  \"time_updated\": \"1455253938\",\n",
      "  \"time_read\": \"0\",\n",
      "  \"time_favorited\": \"0\",\n",
      "  \"sort_id\": 0,\n",
      "  \"resolved_title\": \"North Korea Uncovered: The Crowd-Sourced Mapping of the World’s Most Secret State\",\n",
      "  \"resolved_url\": \"http://blogs.loc.gov/maps/2016/02/north-korea-uncovered-the-crowd-sourced-mapping-of-the-worlds-most-secret-state/\",\n",
      "  \"excerpt\": \"Begin Press Release: Library of Congress to Hold Lecture on the Crowd-Sourced Mapping of North Korea, Feb. 24 Curtis Melvin, a researcher at the U.S.\",\n",
      "  \"is_article\": \"1\",\n",
      "  \"is_index\": \"0\",\n",
      "  \"has_video\": \"0\",\n",
      "  \"has_image\": \"0\",\n",
      "  \"word_count\": \"513\"\n",
      "}\n"
     ]
    }
   ],
   "source": [
    "e=entries.values.first\n",
    "puts JSON.pretty_unparse e"
   ]
  },
  {
   "cell_type": "markdown",
   "metadata": {},
   "source": [
    "### Fetch tags based on the excerpt"
   ]
  },
  {
   "cell_type": "code",
   "execution_count": 11,
   "metadata": {
    "collapsed": false
   },
   "outputs": [
    {
     "data": {
      "text/plain": [
       "[{:name=>\"Politics\", :score=>0.897, :original=>\"Politics\"}, {:name=>\"Environment\", :score=>0.467, :original=>\"Environment\"}, {:name=>\"melvin\", :score=>0.9}]"
      ]
     },
     "execution_count": 11,
     "metadata": {},
     "output_type": "execute_result"
    }
   ],
   "source": [
    "etgs=tagger.get_tags(e[\"excerpt\"])"
   ]
  },
  {
   "cell_type": "markdown",
   "metadata": {},
   "source": [
    "### Fetch tags for the whole article"
   ]
  },
  {
   "cell_type": "code",
   "execution_count": 12,
   "metadata": {
    "collapsed": false
   },
   "outputs": [
    {
     "data": {
      "text/plain": [
       "[{:name=>\"member states of the united nations\", :score=>0.9}, {:name=>\"republics\", :score=>0.9}, {:name=>\"military of north korea\", :score=>0.9}, {:name=>\"geography of north korea\", :score=>0.7}, {:name=>\"north korea uncovered\", :score=>0.7}, {:name=>\"foreign relations of north korea\", :score=>0.7}, {:name=>\"yongbyon nuclear scientific research center\", :score=>0.7}, {:name=>\"north korea\", :score=>0.7}, {:name=>\"korean language\", :score=>0.7}, {:name=>\"south korea\", :score=>0.7}]"
      ]
     },
     "execution_count": 12,
     "metadata": {},
     "output_type": "execute_result"
    }
   ],
   "source": [
    "utgs = tagger.tags_for(e[\"resolved_url\"])"
   ]
  },
  {
   "cell_type": "markdown",
   "metadata": {},
   "source": [
    "### Use the `better_tags` function to determine which set of tags is better (?)"
   ]
  },
  {
   "cell_type": "code",
   "execution_count": 13,
   "metadata": {
    "collapsed": false
   },
   "outputs": [
    {
     "data": {
      "text/plain": [
       "[{:name=>\"member states of the united nations\", :score=>0.9}, {:name=>\"republics\", :score=>0.9}, {:name=>\"military of north korea\", :score=>0.9}, {:name=>\"geography of north korea\", :score=>0.7}, {:name=>\"north korea uncovered\", :score=>0.7}, {:name=>\"foreign relations of north korea\", :score=>0.7}, {:name=>\"yongbyon nuclear scientific research center\", :score=>0.7}, {:name=>\"north korea\", :score=>0.7}, {:name=>\"korean language\", :score=>0.7}, {:name=>\"south korea\", :score=>0.7}]"
      ]
     },
     "execution_count": 13,
     "metadata": {},
     "output_type": "execute_result"
    }
   ],
   "source": [
    "best_tags=better_tags[e, etgs, utgs]"
   ]
  },
  {
   "cell_type": "markdown",
   "metadata": {},
   "source": [
    "### Set the pocket item to the chosen 'best' set of tags"
   ]
  },
  {
   "cell_type": "code",
   "execution_count": 14,
   "metadata": {
    "collapsed": false
   },
   "outputs": [
    {
     "name": "stdout",
     "output_type": "stream",
     "text": [
      "[{:action=>\"tags_add\", :tags=>[{:name=>\"member states of the united nations\", :score=>0.9}, {:name=>\"republics\", :score=>0.9}, {:name=>\"military of north korea\", :score=>0.9}, {:name=>\"geography of north korea\", :score=>0.7}, {:name=>\"north korea uncovered\", :score=>0.7}, {:name=>\"foreign relations of north korea\", :score=>0.7}, {:name=>\"yongbyon nuclear scientific research center\", :score=>0.7}, {:name=>\"north korea\", :score=>0.7}, {:name=>\"korean language\", :score=>0.7}, {:name=>\"south korea\", :score=>0.7}], :item_id=>\"1191716972\"}]\n"
     ]
    },
    {
     "data": {
      "text/plain": [
       "{\"action_results\"=>[true], \"status\"=>1}"
      ]
     },
     "execution_count": 14,
     "metadata": {},
     "output_type": "execute_result"
    }
   ],
   "source": [
    "set_tags[e[\"item_id\"], best_tags]"
   ]
  },
  {
   "cell_type": "markdown",
   "metadata": {},
   "source": [
    "### Tada! tags are set in Pocket. Now to figure out what to do with the tagged pocket articles..."
   ]
  },
  {
   "cell_type": "markdown",
   "metadata": {},
   "source": [
    "\n",
    "\n"
   ]
  },
  {
   "cell_type": "markdown",
   "metadata": {},
   "source": [
    "## Innards of the tagger"
   ]
  },
  {
   "cell_type": "markdown",
   "metadata": {},
   "source": [
    "### Parsing a url with the Readability parse API"
   ]
  },
  {
   "cell_type": "code",
   "execution_count": 15,
   "metadata": {
    "collapsed": false
   },
   "outputs": [
    {
     "name": "stdout",
     "output_type": "stream",
     "text": [
      "keys: [\"domain\", \"next_page_id\", \"url\", \"short_url\", \"author\", \"excerpt\", \"direction\", \"word_count\", \"total_pages\", \"content\", \"date_published\", \"dek\", \"lead_image_url\", \"title\", \"rendered_pages\"]\n"
     ]
    },
    {
     "data": {
      "text/plain": [
       "\"div><div class=\\\"entry-content\\\">\\n\\t\\t<div id=\\\"attachment_558\\\" class=\\\"wp-caption aligncenter\\\"><a href=\\\"http://blogs.loc.gov/maps/files/2016/02/Digital-Atlas-screenshot.jpg\\\"><img class=\\\"wp-image-558 size-full\\\" src=\\\"http://blogs.loc.gov/maps/files/2016/02/Digital-Atlas-screenshot.jpg\\\" alt=\\\"\\\" width=\\\"1001\\\"></a><p class=\\\"wp-caption-text\\\">Above, is an excerpt from the <a href=\\\"http://www.38northdigitalatlas.org/\\\" class=\\\"external\\\">38 North Digital Atlas</a>. 38 North is a project of the U.S.-Korea Institute at the Paul H. Nitze School of Advanced International Studies (SAIS), Johns Hopkins University. Copyright &#xA9; 2009-2016. Image courtesy of Curtis Melvin.</p></div>\\n<p>Begin Press Release:</p>\\n<h2>Library of Congress to Hold Lecture on the</h2>\\n<h2>Crowd-Sourced Mapping of North Korea, Feb. 24</h2>\\n<p>Curtis Melvin, a researcher at the U.S.-Korea Institute at Johns Hopkins University, will discuss the crowd-sourced mapping of North Korea, which resulted in one of the most detailed maps of No\""
      ]
     },
     "execution_count": 15,
     "metadata": {},
     "output_type": "execute_result"
    }
   ],
   "source": [
    "parsed = tagger.readability_parse_url(e[\"resolved_url\"])\n",
    "puts \"keys: #{parsed.keys}\"\n",
    "parsed[\"content\"][1..1000] # This can get pretty long"
   ]
  },
  {
   "cell_type": "markdown",
   "metadata": {},
   "source": [
    "### Remove HTML tags and weird content (confuses the semantic taggers)"
   ]
  },
  {
   "cell_type": "code",
   "execution_count": 16,
   "metadata": {
    "collapsed": false
   },
   "outputs": [
    {
     "name": "stdout",
     "output_type": "stream",
     "text": [
      "bove, is an excerpt from the 38 North Digital Atlas. 38 North is a project of the U.S.-Korea Institute at the Paul H. Nitze School of Advanced International Studies (SAIS), Johns Hopkins University. Copyright © 2009-2016. Image courtesy of Curtis Melvin.    Begin Press Release:   Library of Congress to Hold Lecture on the   Crowd-Sourced Mapping of North Korea, Feb. 24   Curtis Melvin, a researcher at the U.S.-Korea Institute at Johns Hopkins University, will discuss the crowd-sourced mapping of North Korea, which resulted in one of the most detailed maps of North Korea that has ever been available to the public.   Melvin will present “North Korea Uncovered: The Crowd-Sourced Mapping of the World’s Most Secret State” at noon on Wednesday, Feb. 24 in the Mumford Room on the sixth floor of the James Madison Memorial Building, 101 Independence Ave. S.E., Washington, D.C. The event, free and open to the public, is hosted by The Philip Lee Phillips Map Society, the Friends Group of the Libr\n"
     ]
    }
   ],
   "source": [
    "scrubbed = tagger.scrub_html(parsed[\"content\"])\n",
    "puts scrubbed[1..1000]"
   ]
  },
  {
   "cell_type": "markdown",
   "metadata": {},
   "source": [
    "### And fetch tags using Open Calais"
   ]
  },
  {
   "cell_type": "code",
   "execution_count": 17,
   "metadata": {
    "collapsed": false
   },
   "outputs": [
    {
     "data": {
      "text/plain": [
       "[{:name=>\"member states of the united nations\", :score=>0.9}, {:name=>\"republics\", :score=>0.9}, {:name=>\"military of north korea\", :score=>0.9}, {:name=>\"geography of north korea\", :score=>0.7}, {:name=>\"north korea uncovered\", :score=>0.7}, {:name=>\"foreign relations of north korea\", :score=>0.7}, {:name=>\"yongbyon nuclear scientific research center\", :score=>0.7}, {:name=>\"north korea\", :score=>0.7}, {:name=>\"korean language\", :score=>0.7}, {:name=>\"south korea\", :score=>0.7}]"
      ]
     },
     "execution_count": 17,
     "metadata": {},
     "output_type": "execute_result"
    }
   ],
   "source": [
    "tags = tagger.get_tags(scrubbed)"
   ]
  },
  {
   "cell_type": "markdown",
   "metadata": {},
   "source": [
    "## For our last trick, tag a whole bunch of articles at once. YOLO!"
   ]
  },
  {
   "cell_type": "code",
   "execution_count": 18,
   "metadata": {
    "collapsed": false,
    "scrolled": true
   },
   "outputs": [
    {
     "data": {
      "text/plain": [
       "[\"Fleeting Wonders: An Influx of Manatees\", \"NASA’s asteroid mission isn’t dead—yet\", \"In pictures: Mumbai cabbies\", \"The Insouciant Heiress Who Became the First Western Woman to Enter Palmyra\", \"The Portland of Portugal\", \"Your Stupid-Ass Typing Style Might Not Actually Be So Bad\"]"
      ]
     },
     "execution_count": 18,
     "metadata": {},
     "output_type": "execute_result"
    }
   ],
   "source": [
    "list_entries = pocket_client.retrieve(count: 6, offset: 16) # get some new Entries\n",
    "entries = list_entries[\"list\"]\n",
    "\n",
    "entries.values.map{|e| e[\"resolved_title\"]}"
   ]
  },
  {
   "cell_type": "markdown",
   "metadata": {},
   "source": [
    "### All Kinds of horrible things can go wrong parsing and tagging, so catch any errors and report them"
   ]
  },
  {
   "cell_type": "code",
   "execution_count": 19,
   "metadata": {
    "collapsed": false
   },
   "outputs": [
    {
     "name": "stdout",
     "output_type": "stream",
     "text": [
      "Fleeting Wonders: An Influx of Manatees: [{:name=>\"sirenians\", :score=>0.9}, {:name=>\"manatee\", :score=>0.9}, {:name=>\"crystal river\", :score=>0.9}, {:name=>\"three sisters springs\", :score=>0.7}, {:name=>\"edge species\", :score=>0.7}, {:name=>\"west indian manatee\", :score=>0.7}]\n",
      "\n",
      "\n",
      "[{:action=>\"tags_add\", :tags=>[{:name=>\"sirenians\", :score=>0.9}, {:name=>\"manatee\", :score=>0.9}, {:name=>\"crystal river\", :score=>0.9}, {:name=>\"three sisters springs\", :score=>0.7}, {:name=>\"edge species\", :score=>0.7}, {:name=>\"west indian manatee\", :score=>0.7}], :item_id=>\"1190177662\"}]\n",
      "NASA’s asteroid mission isn’t dead—yet: [{:name=>\"Technology & Internet\", :score=>0.961, :original=>\"Technology_Internet\"}, {:name=>\"Environment\", :score=>0.807, :original=>\"Environment\"}, {:name=>\"spaceflight\", :score=>0.9}, {:name=>\"asteroid redirect mission\", :score=>0.9}, {:name=>\"planetary defense\", :score=>0.9}, {:name=>\"human mission to an asteroid\", :score=>0.7}, {:name=>\"nasa\", :score=>0.7}, {:name=>\"space launch system\", :score=>0.7}, {:name=>\"lander\", :score=>0.7}, {:name=>\"asteroid\", :score=>0.7}, {:name=>\"space exploration\", :score=>0.7}, {:name=>\"orion\", :score=>0.7}, {:name=>\"asteroid capture\", :score=>0.7}, {:name=>\"human mission to mars\", :score=>0.7}]\n",
      "\n",
      "\n",
      "[{:action=>\"tags_add\", :tags=>[{:name=>\"Technology & Internet\", :score=>0.961, :original=>\"Technology_Internet\"}, {:name=>\"Environment\", :score=>0.807, :original=>\"Environment\"}, {:name=>\"spaceflight\", :score=>0.9}, {:name=>\"asteroid redirect mission\", :score=>0.9}, {:name=>\"planetary defense\", :score=>0.9}, {:name=>\"human mission to an asteroid\", :score=>0.7}, {:name=>\"nasa\", :score=>0.7}, {:name=>\"space launch system\", :score=>0.7}, {:name=>\"lander\", :score=>0.7}, {:name=>\"asteroid\", :score=>0.7}, {:name=>\"space exploration\", :score=>0.7}, {:name=>\"orion\", :score=>0.7}, {:name=>\"asteroid capture\", :score=>0.7}, {:name=>\"human mission to mars\", :score=>0.7}], :item_id=>\"1190547024\"}]\n",
      "In pictures: Mumbai cabbies: [{:name=>\"dougie wallace\", :score=>0.9}, {:name=>\"dougie\", :score=>0.9}, {:name=>\"wallace\", :score=>0.9}]\n",
      "\n",
      "\n",
      "[{:action=>\"tags_add\", :tags=>[{:name=>\"dougie wallace\", :score=>0.9}, {:name=>\"dougie\", :score=>0.9}, {:name=>\"wallace\", :score=>0.9}], :item_id=>\"1190668834\"}]\n",
      "The Insouciant Heiress Who Became the First Western Woman to Enter Palmyra: [{:name=>\"archaeology of israel\", :score=>0.9}, {:name=>\"lady hester stanhope\", :score=>0.9}, {:name=>\"travelers\", :score=>0.9}, {:name=>\"stanhope\", :score=>0.7}]\n",
      "\n",
      "\n",
      "[{:action=>\"tags_add\", :tags=>[{:name=>\"archaeology of israel\", :score=>0.9}, {:name=>\"lady hester stanhope\", :score=>0.9}, {:name=>\"travelers\", :score=>0.9}, {:name=>\"stanhope\", :score=>0.7}], :item_id=>\"1190416486\"}]\n",
      "The Portland of Portugal: [{:name=>\"Hospitality & Recreation\", :score=>0.95, :original=>\"Hospitality_Recreation\"}, {:name=>\"Religion & Belief\", :score=>0.904, :original=>\"Religion_Belief\"}, {:name=>\"azulejo\", :score=>0.9}, {:name=>\"portuguese architecture\", :score=>0.9}, {:name=>\"portuguese art\", :score=>0.9}, {:name=>\"tiling\", :score=>0.7}, {:name=>\"portuguese wine\", :score=>0.7}, {:name=>\"tile\", :score=>0.7}, {:name=>\"douro doc\", :score=>0.7}, {:name=>\"portugal\", :score=>0.7}, {:name=>\"douro\", :score=>0.7}, {:name=>\"port wine\", :score=>0.7}, {:name=>\"townhouse\", :score=>0.7}]\n",
      "\n",
      "\n",
      "[{:action=>\"tags_add\", :tags=>[{:name=>\"Hospitality & Recreation\", :score=>0.95, :original=>\"Hospitality_Recreation\"}, {:name=>\"Religion & Belief\", :score=>0.904, :original=>\"Religion_Belief\"}, {:name=>\"azulejo\", :score=>0.9}, {:name=>\"portuguese architecture\", :score=>0.9}, {:name=>\"portuguese art\", :score=>0.9}, {:name=>\"tiling\", :score=>0.7}, {:name=>\"portuguese wine\", :score=>0.7}, {:name=>\"tile\", :score=>0.7}, {:name=>\"douro doc\", :score=>0.7}, {:name=>\"portugal\", :score=>0.7}, {:name=>\"douro\", :score=>0.7}, {:name=>\"port wine\", :score=>0.7}, {:name=>\"townhouse\", :score=>0.7}], :item_id=>\"1190555765\"}]\n",
      "Your Stupid-Ass Typing Style Might Not Actually Be So Bad: [{:name=>\"input/output\", :score=>0.9}, {:name=>\"text\", :score=>0.9}, {:name=>\"typing\", :score=>0.9}, {:name=>\"computer keyboards\", :score=>0.7}, {:name=>\"touch typing\", :score=>0.7}]\n",
      "\n",
      "\n",
      "[{:action=>\"tags_add\", :tags=>[{:name=>\"input/output\", :score=>0.9}, {:name=>\"text\", :score=>0.9}, {:name=>\"typing\", :score=>0.9}, {:name=>\"computer keyboards\", :score=>0.7}, {:name=>\"touch typing\", :score=>0.7}], :item_id=>\"1190404788\"}]\n"
     ]
    },
    {
     "data": {
      "text/plain": [
       "[{\"action_results\"=>[true], \"status\"=>1}, {\"action_results\"=>[true], \"status\"=>1}, {\"action_results\"=>[true], \"status\"=>1}, {\"action_results\"=>[true], \"status\"=>1}, {\"action_results\"=>[true], \"status\"=>1}, {\"action_results\"=>[true], \"status\"=>1}]"
      ]
     },
     "execution_count": 19,
     "metadata": {},
     "output_type": "execute_result"
    }
   ],
   "source": [
    "results = entries.map do |id, e|\n",
    "  begin\n",
    "    best_tags = auto_tag[e, tagger]\n",
    "  rescue StandardError => e\n",
    "    puts \"error: #{e.inspect}\"\n",
    "  end\n",
    "  \n",
    "  puts \"#{e[\"resolved_title\"]}: #{best_tags}\\n\\n\"\n",
    "  \n",
    "  set_tags[id, best_tags] if best_tags.count > 0\n",
    "end"
   ]
  }
 ],
 "metadata": {
  "kernelspec": {
   "display_name": "Ruby 2.2.1",
   "language": "ruby",
   "name": "ruby"
  },
  "language_info": {
   "file_extension": ".rb",
   "mimetype": "application/x-ruby",
   "name": "ruby",
   "version": "2.2.1"
  }
 },
 "nbformat": 4,
 "nbformat_minor": 0
}
